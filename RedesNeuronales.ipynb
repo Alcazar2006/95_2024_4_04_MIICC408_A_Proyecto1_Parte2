{
  "nbformat": 4,
  "nbformat_minor": 0,
  "metadata": {
    "colab": {
      "provenance": []
    },
    "kernelspec": {
      "name": "python3",
      "display_name": "Python 3"
    },
    "language_info": {
      "name": "python"
    }
  },
  "cells": [
    {
      "cell_type": "markdown",
      "source": [
        "**Universidad de San Carlos de Guatemala**\n",
        "**Facultad de Ingeniería**  \n",
        "**Escuela de Estudios de Postgrado**  \n",
        "**Maestría en Ingeniería para la Industria con Especialización en Ciencias de la Computación**  \n",
        "**David Andrés Alcázar Escobar**   "
      ],
      "metadata": {
        "id": "WLw2OfEp-kZw"
      }
    },
    {
      "cell_type": "markdown",
      "source": [
        "# Bibliotecas Utilizadas"
      ],
      "metadata": {
        "id": "EAlhqYh6-mM-"
      }
    },
    {
      "cell_type": "code",
      "execution_count": 19,
      "metadata": {
        "id": "Eeh8lzLF9M-6"
      },
      "outputs": [],
      "source": [
        "import numpy as np\n",
        "import pandas as pd\n",
        "import tensorflow as tf\n",
        "from tensorflow.keras.models import Sequential\n",
        "from tensorflow.keras.layers import Dense\n",
        "from sklearn.model_selection import train_test_split"
      ]
    },
    {
      "cell_type": "code",
      "source": [
        "from google.colab import drive\n",
        "drive.mount(\"/content/drive\")"
      ],
      "metadata": {
        "colab": {
          "base_uri": "https://localhost:8080/"
        },
        "id": "9oznkrUq-2Fq",
        "outputId": "c1067750-36f6-46fb-f792-0d5ca59d680c"
      },
      "execution_count": 5,
      "outputs": [
        {
          "output_type": "stream",
          "name": "stdout",
          "text": [
            "Mounted at /content/drive\n"
          ]
        }
      ]
    },
    {
      "cell_type": "markdown",
      "source": [
        "# Cargar datos"
      ],
      "metadata": {
        "id": "3RuJ4ZUs-tfm"
      }
    },
    {
      "cell_type": "code",
      "source": [
        "data_importacion = pd.read_csv(\"/content/drive/My Drive/Datasets/MIICC408/Proyecto1/data_importacion.csv\", encoding='utf-8')"
      ],
      "metadata": {
        "id": "7ii4L6aD-vJy"
      },
      "execution_count": 9,
      "outputs": []
    },
    {
      "cell_type": "markdown",
      "source": [],
      "metadata": {
        "id": "frThp6fo-yUo"
      }
    },
    {
      "cell_type": "code",
      "source": [
        "data_importacion.head()"
      ],
      "metadata": {
        "colab": {
          "base_uri": "https://localhost:8080/",
          "height": 206
        },
        "id": "l8sTSEaoAFdM",
        "outputId": "469f81a4-f51f-4fb6-bf72-5df325fc768d"
      },
      "execution_count": 27,
      "outputs": [
        {
          "output_type": "execute_result",
          "data": {
            "text/plain": [
              "   Unnamed: 0  PAIS ANYO_MES           SAC  ADUANA  VIA     VALOR    PESO  \\\n",
              "0       48199  2104   2024-5  4.804590e+09     108    1   14190.0   19594   \n",
              "1       55751  2107   2024-2  2.520100e+09      34    1   40283.0  297000   \n",
              "2       55907  2107   2024-2  9.030400e+09      34    1     548.0      82   \n",
              "3       44835  2104   2024-5  7.306301e+09     106    1  213692.0  177077   \n",
              "4       35284  2104   2024-5  7.096010e+08     108    1    6374.0    8113   \n",
              "\n",
              "   COD_CONTINENTE NOMBRE_PAIS CONTINENTE  CAPITULO  IsAmerica  \n",
              "0               1    Honduras    América      48.0          1  \n",
              "1               1   Nicaragua    América      25.0          1  \n",
              "2               1   Nicaragua    América      90.0          1  \n",
              "3               1    Honduras    América      73.0          1  \n",
              "4               1    Honduras    América      70.0          1  "
            ],
            "text/html": [
              "\n",
              "  <div id=\"df-16ad91ee-23db-4ce3-9fc2-36f832fa8120\" class=\"colab-df-container\">\n",
              "    <div>\n",
              "<style scoped>\n",
              "    .dataframe tbody tr th:only-of-type {\n",
              "        vertical-align: middle;\n",
              "    }\n",
              "\n",
              "    .dataframe tbody tr th {\n",
              "        vertical-align: top;\n",
              "    }\n",
              "\n",
              "    .dataframe thead th {\n",
              "        text-align: right;\n",
              "    }\n",
              "</style>\n",
              "<table border=\"1\" class=\"dataframe\">\n",
              "  <thead>\n",
              "    <tr style=\"text-align: right;\">\n",
              "      <th></th>\n",
              "      <th>Unnamed: 0</th>\n",
              "      <th>PAIS</th>\n",
              "      <th>ANYO_MES</th>\n",
              "      <th>SAC</th>\n",
              "      <th>ADUANA</th>\n",
              "      <th>VIA</th>\n",
              "      <th>VALOR</th>\n",
              "      <th>PESO</th>\n",
              "      <th>COD_CONTINENTE</th>\n",
              "      <th>NOMBRE_PAIS</th>\n",
              "      <th>CONTINENTE</th>\n",
              "      <th>CAPITULO</th>\n",
              "      <th>IsAmerica</th>\n",
              "    </tr>\n",
              "  </thead>\n",
              "  <tbody>\n",
              "    <tr>\n",
              "      <th>0</th>\n",
              "      <td>48199</td>\n",
              "      <td>2104</td>\n",
              "      <td>2024-5</td>\n",
              "      <td>4.804590e+09</td>\n",
              "      <td>108</td>\n",
              "      <td>1</td>\n",
              "      <td>14190.0</td>\n",
              "      <td>19594</td>\n",
              "      <td>1</td>\n",
              "      <td>Honduras</td>\n",
              "      <td>América</td>\n",
              "      <td>48.0</td>\n",
              "      <td>1</td>\n",
              "    </tr>\n",
              "    <tr>\n",
              "      <th>1</th>\n",
              "      <td>55751</td>\n",
              "      <td>2107</td>\n",
              "      <td>2024-2</td>\n",
              "      <td>2.520100e+09</td>\n",
              "      <td>34</td>\n",
              "      <td>1</td>\n",
              "      <td>40283.0</td>\n",
              "      <td>297000</td>\n",
              "      <td>1</td>\n",
              "      <td>Nicaragua</td>\n",
              "      <td>América</td>\n",
              "      <td>25.0</td>\n",
              "      <td>1</td>\n",
              "    </tr>\n",
              "    <tr>\n",
              "      <th>2</th>\n",
              "      <td>55907</td>\n",
              "      <td>2107</td>\n",
              "      <td>2024-2</td>\n",
              "      <td>9.030400e+09</td>\n",
              "      <td>34</td>\n",
              "      <td>1</td>\n",
              "      <td>548.0</td>\n",
              "      <td>82</td>\n",
              "      <td>1</td>\n",
              "      <td>Nicaragua</td>\n",
              "      <td>América</td>\n",
              "      <td>90.0</td>\n",
              "      <td>1</td>\n",
              "    </tr>\n",
              "    <tr>\n",
              "      <th>3</th>\n",
              "      <td>44835</td>\n",
              "      <td>2104</td>\n",
              "      <td>2024-5</td>\n",
              "      <td>7.306301e+09</td>\n",
              "      <td>106</td>\n",
              "      <td>1</td>\n",
              "      <td>213692.0</td>\n",
              "      <td>177077</td>\n",
              "      <td>1</td>\n",
              "      <td>Honduras</td>\n",
              "      <td>América</td>\n",
              "      <td>73.0</td>\n",
              "      <td>1</td>\n",
              "    </tr>\n",
              "    <tr>\n",
              "      <th>4</th>\n",
              "      <td>35284</td>\n",
              "      <td>2104</td>\n",
              "      <td>2024-5</td>\n",
              "      <td>7.096010e+08</td>\n",
              "      <td>108</td>\n",
              "      <td>1</td>\n",
              "      <td>6374.0</td>\n",
              "      <td>8113</td>\n",
              "      <td>1</td>\n",
              "      <td>Honduras</td>\n",
              "      <td>América</td>\n",
              "      <td>70.0</td>\n",
              "      <td>1</td>\n",
              "    </tr>\n",
              "  </tbody>\n",
              "</table>\n",
              "</div>\n",
              "    <div class=\"colab-df-buttons\">\n",
              "\n",
              "  <div class=\"colab-df-container\">\n",
              "    <button class=\"colab-df-convert\" onclick=\"convertToInteractive('df-16ad91ee-23db-4ce3-9fc2-36f832fa8120')\"\n",
              "            title=\"Convert this dataframe to an interactive table.\"\n",
              "            style=\"display:none;\">\n",
              "\n",
              "  <svg xmlns=\"http://www.w3.org/2000/svg\" height=\"24px\" viewBox=\"0 -960 960 960\">\n",
              "    <path d=\"M120-120v-720h720v720H120Zm60-500h600v-160H180v160Zm220 220h160v-160H400v160Zm0 220h160v-160H400v160ZM180-400h160v-160H180v160Zm440 0h160v-160H620v160ZM180-180h160v-160H180v160Zm440 0h160v-160H620v160Z\"/>\n",
              "  </svg>\n",
              "    </button>\n",
              "\n",
              "  <style>\n",
              "    .colab-df-container {\n",
              "      display:flex;\n",
              "      gap: 12px;\n",
              "    }\n",
              "\n",
              "    .colab-df-convert {\n",
              "      background-color: #E8F0FE;\n",
              "      border: none;\n",
              "      border-radius: 50%;\n",
              "      cursor: pointer;\n",
              "      display: none;\n",
              "      fill: #1967D2;\n",
              "      height: 32px;\n",
              "      padding: 0 0 0 0;\n",
              "      width: 32px;\n",
              "    }\n",
              "\n",
              "    .colab-df-convert:hover {\n",
              "      background-color: #E2EBFA;\n",
              "      box-shadow: 0px 1px 2px rgba(60, 64, 67, 0.3), 0px 1px 3px 1px rgba(60, 64, 67, 0.15);\n",
              "      fill: #174EA6;\n",
              "    }\n",
              "\n",
              "    .colab-df-buttons div {\n",
              "      margin-bottom: 4px;\n",
              "    }\n",
              "\n",
              "    [theme=dark] .colab-df-convert {\n",
              "      background-color: #3B4455;\n",
              "      fill: #D2E3FC;\n",
              "    }\n",
              "\n",
              "    [theme=dark] .colab-df-convert:hover {\n",
              "      background-color: #434B5C;\n",
              "      box-shadow: 0px 1px 3px 1px rgba(0, 0, 0, 0.15);\n",
              "      filter: drop-shadow(0px 1px 2px rgba(0, 0, 0, 0.3));\n",
              "      fill: #FFFFFF;\n",
              "    }\n",
              "  </style>\n",
              "\n",
              "    <script>\n",
              "      const buttonEl =\n",
              "        document.querySelector('#df-16ad91ee-23db-4ce3-9fc2-36f832fa8120 button.colab-df-convert');\n",
              "      buttonEl.style.display =\n",
              "        google.colab.kernel.accessAllowed ? 'block' : 'none';\n",
              "\n",
              "      async function convertToInteractive(key) {\n",
              "        const element = document.querySelector('#df-16ad91ee-23db-4ce3-9fc2-36f832fa8120');\n",
              "        const dataTable =\n",
              "          await google.colab.kernel.invokeFunction('convertToInteractive',\n",
              "                                                    [key], {});\n",
              "        if (!dataTable) return;\n",
              "\n",
              "        const docLinkHtml = 'Like what you see? Visit the ' +\n",
              "          '<a target=\"_blank\" href=https://colab.research.google.com/notebooks/data_table.ipynb>data table notebook</a>'\n",
              "          + ' to learn more about interactive tables.';\n",
              "        element.innerHTML = '';\n",
              "        dataTable['output_type'] = 'display_data';\n",
              "        await google.colab.output.renderOutput(dataTable, element);\n",
              "        const docLink = document.createElement('div');\n",
              "        docLink.innerHTML = docLinkHtml;\n",
              "        element.appendChild(docLink);\n",
              "      }\n",
              "    </script>\n",
              "  </div>\n",
              "\n",
              "\n",
              "<div id=\"df-8de20b13-c9dd-439a-b93c-d766bc02e7b7\">\n",
              "  <button class=\"colab-df-quickchart\" onclick=\"quickchart('df-8de20b13-c9dd-439a-b93c-d766bc02e7b7')\"\n",
              "            title=\"Suggest charts\"\n",
              "            style=\"display:none;\">\n",
              "\n",
              "<svg xmlns=\"http://www.w3.org/2000/svg\" height=\"24px\"viewBox=\"0 0 24 24\"\n",
              "     width=\"24px\">\n",
              "    <g>\n",
              "        <path d=\"M19 3H5c-1.1 0-2 .9-2 2v14c0 1.1.9 2 2 2h14c1.1 0 2-.9 2-2V5c0-1.1-.9-2-2-2zM9 17H7v-7h2v7zm4 0h-2V7h2v10zm4 0h-2v-4h2v4z\"/>\n",
              "    </g>\n",
              "</svg>\n",
              "  </button>\n",
              "\n",
              "<style>\n",
              "  .colab-df-quickchart {\n",
              "      --bg-color: #E8F0FE;\n",
              "      --fill-color: #1967D2;\n",
              "      --hover-bg-color: #E2EBFA;\n",
              "      --hover-fill-color: #174EA6;\n",
              "      --disabled-fill-color: #AAA;\n",
              "      --disabled-bg-color: #DDD;\n",
              "  }\n",
              "\n",
              "  [theme=dark] .colab-df-quickchart {\n",
              "      --bg-color: #3B4455;\n",
              "      --fill-color: #D2E3FC;\n",
              "      --hover-bg-color: #434B5C;\n",
              "      --hover-fill-color: #FFFFFF;\n",
              "      --disabled-bg-color: #3B4455;\n",
              "      --disabled-fill-color: #666;\n",
              "  }\n",
              "\n",
              "  .colab-df-quickchart {\n",
              "    background-color: var(--bg-color);\n",
              "    border: none;\n",
              "    border-radius: 50%;\n",
              "    cursor: pointer;\n",
              "    display: none;\n",
              "    fill: var(--fill-color);\n",
              "    height: 32px;\n",
              "    padding: 0;\n",
              "    width: 32px;\n",
              "  }\n",
              "\n",
              "  .colab-df-quickchart:hover {\n",
              "    background-color: var(--hover-bg-color);\n",
              "    box-shadow: 0 1px 2px rgba(60, 64, 67, 0.3), 0 1px 3px 1px rgba(60, 64, 67, 0.15);\n",
              "    fill: var(--button-hover-fill-color);\n",
              "  }\n",
              "\n",
              "  .colab-df-quickchart-complete:disabled,\n",
              "  .colab-df-quickchart-complete:disabled:hover {\n",
              "    background-color: var(--disabled-bg-color);\n",
              "    fill: var(--disabled-fill-color);\n",
              "    box-shadow: none;\n",
              "  }\n",
              "\n",
              "  .colab-df-spinner {\n",
              "    border: 2px solid var(--fill-color);\n",
              "    border-color: transparent;\n",
              "    border-bottom-color: var(--fill-color);\n",
              "    animation:\n",
              "      spin 1s steps(1) infinite;\n",
              "  }\n",
              "\n",
              "  @keyframes spin {\n",
              "    0% {\n",
              "      border-color: transparent;\n",
              "      border-bottom-color: var(--fill-color);\n",
              "      border-left-color: var(--fill-color);\n",
              "    }\n",
              "    20% {\n",
              "      border-color: transparent;\n",
              "      border-left-color: var(--fill-color);\n",
              "      border-top-color: var(--fill-color);\n",
              "    }\n",
              "    30% {\n",
              "      border-color: transparent;\n",
              "      border-left-color: var(--fill-color);\n",
              "      border-top-color: var(--fill-color);\n",
              "      border-right-color: var(--fill-color);\n",
              "    }\n",
              "    40% {\n",
              "      border-color: transparent;\n",
              "      border-right-color: var(--fill-color);\n",
              "      border-top-color: var(--fill-color);\n",
              "    }\n",
              "    60% {\n",
              "      border-color: transparent;\n",
              "      border-right-color: var(--fill-color);\n",
              "    }\n",
              "    80% {\n",
              "      border-color: transparent;\n",
              "      border-right-color: var(--fill-color);\n",
              "      border-bottom-color: var(--fill-color);\n",
              "    }\n",
              "    90% {\n",
              "      border-color: transparent;\n",
              "      border-bottom-color: var(--fill-color);\n",
              "    }\n",
              "  }\n",
              "</style>\n",
              "\n",
              "  <script>\n",
              "    async function quickchart(key) {\n",
              "      const quickchartButtonEl =\n",
              "        document.querySelector('#' + key + ' button');\n",
              "      quickchartButtonEl.disabled = true;  // To prevent multiple clicks.\n",
              "      quickchartButtonEl.classList.add('colab-df-spinner');\n",
              "      try {\n",
              "        const charts = await google.colab.kernel.invokeFunction(\n",
              "            'suggestCharts', [key], {});\n",
              "      } catch (error) {\n",
              "        console.error('Error during call to suggestCharts:', error);\n",
              "      }\n",
              "      quickchartButtonEl.classList.remove('colab-df-spinner');\n",
              "      quickchartButtonEl.classList.add('colab-df-quickchart-complete');\n",
              "    }\n",
              "    (() => {\n",
              "      let quickchartButtonEl =\n",
              "        document.querySelector('#df-8de20b13-c9dd-439a-b93c-d766bc02e7b7 button');\n",
              "      quickchartButtonEl.style.display =\n",
              "        google.colab.kernel.accessAllowed ? 'block' : 'none';\n",
              "    })();\n",
              "  </script>\n",
              "</div>\n",
              "\n",
              "    </div>\n",
              "  </div>\n"
            ],
            "application/vnd.google.colaboratory.intrinsic+json": {
              "type": "dataframe",
              "variable_name": "data_importacion",
              "summary": "{\n  \"name\": \"data_importacion\",\n  \"rows\": 77655,\n  \"fields\": [\n    {\n      \"column\": \"Unnamed: 0\",\n      \"properties\": {\n        \"dtype\": \"number\",\n        \"std\": 22417,\n        \"min\": 1,\n        \"max\": 77655,\n        \"num_unique_values\": 77655,\n        \"samples\": [\n          26504,\n          47164,\n          25701\n        ],\n        \"semantic_type\": \"\",\n        \"description\": \"\"\n      }\n    },\n    {\n      \"column\": \"PAIS\",\n      \"properties\": {\n        \"dtype\": \"number\",\n        \"std\": 790,\n        \"min\": 1003,\n        \"max\": 8038,\n        \"num_unique_values\": 128,\n        \"samples\": [\n          5239,\n          2367,\n          4104\n        ],\n        \"semantic_type\": \"\",\n        \"description\": \"\"\n      }\n    },\n    {\n      \"column\": \"ANYO_MES\",\n      \"properties\": {\n        \"dtype\": \"object\",\n        \"num_unique_values\": 6,\n        \"samples\": [\n          \"2024-5\",\n          \"2024-2\",\n          \"2024-4\"\n        ],\n        \"semantic_type\": \"\",\n        \"description\": \"\"\n      }\n    },\n    {\n      \"column\": \"SAC\",\n      \"properties\": {\n        \"dtype\": \"number\",\n        \"std\": 2655923481.3086724,\n        \"min\": 101210000.0,\n        \"max\": 9703900000.0,\n        \"num_unique_values\": 4150,\n        \"samples\": [\n          3912900000.0,\n          4403110000.0,\n          9619002900.0\n        ],\n        \"semantic_type\": \"\",\n        \"description\": \"\"\n      }\n    },\n    {\n      \"column\": \"ADUANA\",\n      \"properties\": {\n        \"dtype\": \"number\",\n        \"std\": 34,\n        \"min\": 1,\n        \"max\": 109,\n        \"num_unique_values\": 29,\n        \"samples\": [\n          98,\n          1,\n          31\n        ],\n        \"semantic_type\": \"\",\n        \"description\": \"\"\n      }\n    },\n    {\n      \"column\": \"VIA\",\n      \"properties\": {\n        \"dtype\": \"number\",\n        \"std\": 0,\n        \"min\": 1,\n        \"max\": 3,\n        \"num_unique_values\": 3,\n        \"samples\": [\n          1,\n          3,\n          2\n        ],\n        \"semantic_type\": \"\",\n        \"description\": \"\"\n      }\n    },\n    {\n      \"column\": \"VALOR\",\n      \"properties\": {\n        \"dtype\": \"number\",\n        \"std\": 733390.513642004,\n        \"min\": 0.0,\n        \"max\": 48597988.0,\n        \"num_unique_values\": 34256,\n        \"samples\": [\n          552.0,\n          5759.0,\n          8571.0\n        ],\n        \"semantic_type\": \"\",\n        \"description\": \"\"\n      }\n    },\n    {\n      \"column\": \"PESO\",\n      \"properties\": {\n        \"dtype\": \"number\",\n        \"std\": 1263163,\n        \"min\": 0,\n        \"max\": 132355377,\n        \"num_unique_values\": 23762,\n        \"samples\": [\n          12531,\n          4010,\n          200100\n        ],\n        \"semantic_type\": \"\",\n        \"description\": \"\"\n      }\n    },\n    {\n      \"column\": \"COD_CONTINENTE\",\n      \"properties\": {\n        \"dtype\": \"number\",\n        \"std\": 0,\n        \"min\": 1,\n        \"max\": 5,\n        \"num_unique_values\": 5,\n        \"samples\": [\n          2,\n          5,\n          3\n        ],\n        \"semantic_type\": \"\",\n        \"description\": \"\"\n      }\n    },\n    {\n      \"column\": \"NOMBRE_PAIS\",\n      \"properties\": {\n        \"dtype\": \"category\",\n        \"num_unique_values\": 128,\n        \"samples\": [\n          \"Bangladesh\",\n          \"Trinidad y Tobago\",\n          \"Alemania\"\n        ],\n        \"semantic_type\": \"\",\n        \"description\": \"\"\n      }\n    },\n    {\n      \"column\": \"CONTINENTE\",\n      \"properties\": {\n        \"dtype\": \"category\",\n        \"num_unique_values\": 5,\n        \"samples\": [\n          \"Europa\",\n          \"Ocean\\u00eda\",\n          \"Asia\"\n        ],\n        \"semantic_type\": \"\",\n        \"description\": \"\"\n      }\n    },\n    {\n      \"column\": \"CAPITULO\",\n      \"properties\": {\n        \"dtype\": \"number\",\n        \"std\": 25.69681353182786,\n        \"min\": 1.0,\n        \"max\": 97.0,\n        \"num_unique_values\": 96,\n        \"samples\": [\n          46.0,\n          24.0,\n          1.0\n        ],\n        \"semantic_type\": \"\",\n        \"description\": \"\"\n      }\n    },\n    {\n      \"column\": \"IsAmerica\",\n      \"properties\": {\n        \"dtype\": \"number\",\n        \"std\": 0,\n        \"min\": 0,\n        \"max\": 1,\n        \"num_unique_values\": 2,\n        \"samples\": [\n          0,\n          1\n        ],\n        \"semantic_type\": \"\",\n        \"description\": \"\"\n      }\n    }\n  ]\n}"
            }
          },
          "metadata": {},
          "execution_count": 27
        }
      ]
    },
    {
      "cell_type": "markdown",
      "source": [
        "# Red 1"
      ],
      "metadata": {
        "id": "sajiWqOLEaFW"
      }
    },
    {
      "cell_type": "markdown",
      "source": [
        "## Definir la variable a predecir"
      ],
      "metadata": {
        "id": "HaNh_cZIAPse"
      }
    },
    {
      "cell_type": "code",
      "source": [
        "data_importacion['IsAmerica'] = data_importacion.apply(\n",
        "    lambda row: 1 if (row['CONTINENTE'] == \"América\" and 3600 <= row['PESO'] <= 132000000) else 0,\n",
        "    axis=1\n",
        ")\n"
      ],
      "metadata": {
        "id": "_pyFUULpCFJ8"
      },
      "execution_count": 58,
      "outputs": []
    },
    {
      "cell_type": "markdown",
      "source": [
        "## Inyectar aleatoriedad"
      ],
      "metadata": {
        "id": "jjKGOgArDjmS"
      }
    },
    {
      "cell_type": "code",
      "source": [
        "data_importacion = data_importacion.sample(frac = 1, random_state = 42).reset_index(drop=True)"
      ],
      "metadata": {
        "id": "kdEO5gG_DjDd"
      },
      "execution_count": 45,
      "outputs": []
    },
    {
      "cell_type": "markdown",
      "source": [
        "## Definición de variables dependientes e independientes"
      ],
      "metadata": {
        "id": "ItQGi1oaDwaG"
      }
    },
    {
      "cell_type": "code",
      "source": [
        "X = data_importacion[[ 'CAPITULO', 'ADUANA','VIA','PESO', 'VALOR', 'PAIS']]\n",
        "y = data_importacion['IsAmerica']"
      ],
      "metadata": {
        "id": "BeO0oKQ6Du-o"
      },
      "execution_count": 47,
      "outputs": []
    },
    {
      "cell_type": "markdown",
      "source": [
        "# Definición de set de entreno y prueba"
      ],
      "metadata": {
        "id": "jixL6ZudEOH9"
      }
    },
    {
      "cell_type": "markdown",
      "source": [],
      "metadata": {
        "id": "GmVYFIFtaybj"
      }
    },
    {
      "cell_type": "code",
      "source": [
        "X_train, X_test, y_train, y_test  = train_test_split(X, y, test_size = 0.2, random_state = 42)"
      ],
      "metadata": {
        "id": "jVSbcnMcEQiz"
      },
      "execution_count": 48,
      "outputs": []
    },
    {
      "cell_type": "markdown",
      "source": [
        "## Diseño de la red neuronal"
      ],
      "metadata": {
        "id": "334QHxfzEUrN"
      }
    },
    {
      "cell_type": "code",
      "source": [
        "\n",
        "model = Sequential()\n",
        "model.add(Dense(16, input_dim = 6, activation = 'relu'))\n",
        "model.add(Dense(8, activation='relu'))\n",
        "model.add(Dense(4, activation='relu'))\n",
        "model.add(Dense(2, activation='relu'))\n",
        "model.add(Dense(1, activation='sigmoid'))"
      ],
      "metadata": {
        "colab": {
          "base_uri": "https://localhost:8080/"
        },
        "id": "2k9tAmggFUhB",
        "outputId": "b92721fa-63e6-421f-f0a4-04fcbc1abebc"
      },
      "execution_count": 55,
      "outputs": [
        {
          "output_type": "stream",
          "name": "stderr",
          "text": [
            "/usr/local/lib/python3.10/dist-packages/keras/src/layers/core/dense.py:87: UserWarning: Do not pass an `input_shape`/`input_dim` argument to a layer. When using Sequential models, prefer using an `Input(shape)` object as the first layer in the model instead.\n",
            "  super().__init__(activity_regularizer=activity_regularizer, **kwargs)\n"
          ]
        }
      ]
    },
    {
      "cell_type": "markdown",
      "source": [
        "## Compilación de la red"
      ],
      "metadata": {
        "id": "rx2v8LaMGOIT"
      }
    },
    {
      "cell_type": "code",
      "source": [
        "model.compile(loss ='binary_crossentropy', optimizer ='adam', metrics =['accuracy'])"
      ],
      "metadata": {
        "id": "WOhLJd2AGRkJ"
      },
      "execution_count": 56,
      "outputs": []
    },
    {
      "cell_type": "markdown",
      "source": [
        "## Entreno y testeo"
      ],
      "metadata": {
        "id": "kBxExCueGfV0"
      }
    },
    {
      "cell_type": "code",
      "source": [
        "model.fit(X_train, y_train, epochs = 50, batch_size = 10, validation_data=(X_test, y_test))"
      ],
      "metadata": {
        "colab": {
          "base_uri": "https://localhost:8080/"
        },
        "id": "z7m2A_DtGiv7",
        "outputId": "aa5d641a-5c84-4f23-c1de-bdb8e5f422bb"
      },
      "execution_count": 57,
      "outputs": [
        {
          "output_type": "stream",
          "name": "stdout",
          "text": [
            "Epoch 1/50\n",
            "\u001b[1m6213/6213\u001b[0m \u001b[32m━━━━━━━━━━━━━━━━━━━━\u001b[0m\u001b[37m\u001b[0m \u001b[1m16s\u001b[0m 2ms/step - accuracy: 0.6975 - loss: 103.2551 - val_accuracy: 0.6925 - val_loss: 0.6171\n",
            "Epoch 2/50\n",
            "\u001b[1m6213/6213\u001b[0m \u001b[32m━━━━━━━━━━━━━━━━━━━━\u001b[0m\u001b[37m\u001b[0m \u001b[1m21s\u001b[0m 2ms/step - accuracy: 0.6910 - loss: 0.6184 - val_accuracy: 0.6925 - val_loss: 0.6171\n",
            "Epoch 3/50\n",
            "\u001b[1m6213/6213\u001b[0m \u001b[32m━━━━━━━━━━━━━━━━━━━━\u001b[0m\u001b[37m\u001b[0m \u001b[1m14s\u001b[0m 2ms/step - accuracy: 0.6851 - loss: 0.6230 - val_accuracy: 0.6925 - val_loss: 0.6172\n",
            "Epoch 4/50\n",
            "\u001b[1m6213/6213\u001b[0m \u001b[32m━━━━━━━━━━━━━━━━━━━━\u001b[0m\u001b[37m\u001b[0m \u001b[1m14s\u001b[0m 2ms/step - accuracy: 0.6931 - loss: 0.6166 - val_accuracy: 0.6925 - val_loss: 0.6171\n",
            "Epoch 5/50\n",
            "\u001b[1m6213/6213\u001b[0m \u001b[32m━━━━━━━━━━━━━━━━━━━━\u001b[0m\u001b[37m\u001b[0m \u001b[1m19s\u001b[0m 2ms/step - accuracy: 0.6911 - loss: 0.6182 - val_accuracy: 0.6925 - val_loss: 0.6171\n",
            "Epoch 6/50\n",
            "\u001b[1m6213/6213\u001b[0m \u001b[32m━━━━━━━━━━━━━━━━━━━━\u001b[0m\u001b[37m\u001b[0m \u001b[1m21s\u001b[0m 2ms/step - accuracy: 0.6906 - loss: 0.6187 - val_accuracy: 0.6925 - val_loss: 0.6171\n",
            "Epoch 7/50\n",
            "\u001b[1m6213/6213\u001b[0m \u001b[32m━━━━━━━━━━━━━━━━━━━━\u001b[0m\u001b[37m\u001b[0m \u001b[1m13s\u001b[0m 2ms/step - accuracy: 0.6908 - loss: 0.6185 - val_accuracy: 0.6925 - val_loss: 0.6171\n",
            "Epoch 8/50\n",
            "\u001b[1m6213/6213\u001b[0m \u001b[32m━━━━━━━━━━━━━━━━━━━━\u001b[0m\u001b[37m\u001b[0m \u001b[1m14s\u001b[0m 2ms/step - accuracy: 0.6891 - loss: 0.6198 - val_accuracy: 0.6925 - val_loss: 0.6171\n",
            "Epoch 9/50\n",
            "\u001b[1m6213/6213\u001b[0m \u001b[32m━━━━━━━━━━━━━━━━━━━━\u001b[0m\u001b[37m\u001b[0m \u001b[1m14s\u001b[0m 2ms/step - accuracy: 0.6925 - loss: 0.6171 - val_accuracy: 0.6925 - val_loss: 0.6171\n",
            "Epoch 10/50\n",
            "\u001b[1m6213/6213\u001b[0m \u001b[32m━━━━━━━━━━━━━━━━━━━━\u001b[0m\u001b[37m\u001b[0m \u001b[1m20s\u001b[0m 2ms/step - accuracy: 0.6904 - loss: 0.6189 - val_accuracy: 0.6925 - val_loss: 0.6171\n",
            "Epoch 11/50\n",
            "\u001b[1m6213/6213\u001b[0m \u001b[32m━━━━━━━━━━━━━━━━━━━━\u001b[0m\u001b[37m\u001b[0m \u001b[1m13s\u001b[0m 2ms/step - accuracy: 0.6901 - loss: 0.6191 - val_accuracy: 0.6925 - val_loss: 0.6171\n",
            "Epoch 12/50\n",
            "\u001b[1m6213/6213\u001b[0m \u001b[32m━━━━━━━━━━━━━━━━━━━━\u001b[0m\u001b[37m\u001b[0m \u001b[1m14s\u001b[0m 2ms/step - accuracy: 0.6935 - loss: 0.6163 - val_accuracy: 0.6925 - val_loss: 0.6171\n",
            "Epoch 13/50\n",
            "\u001b[1m6213/6213\u001b[0m \u001b[32m━━━━━━━━━━━━━━━━━━━━\u001b[0m\u001b[37m\u001b[0m \u001b[1m23s\u001b[0m 3ms/step - accuracy: 0.6923 - loss: 0.6173 - val_accuracy: 0.6925 - val_loss: 0.6171\n",
            "Epoch 14/50\n",
            "\u001b[1m6213/6213\u001b[0m \u001b[32m━━━━━━━━━━━━━━━━━━━━\u001b[0m\u001b[37m\u001b[0m \u001b[1m18s\u001b[0m 2ms/step - accuracy: 0.6941 - loss: 0.6158 - val_accuracy: 0.6925 - val_loss: 0.6171\n",
            "Epoch 15/50\n",
            "\u001b[1m6213/6213\u001b[0m \u001b[32m━━━━━━━━━━━━━━━━━━━━\u001b[0m\u001b[37m\u001b[0m \u001b[1m14s\u001b[0m 2ms/step - accuracy: 0.6906 - loss: 0.6187 - val_accuracy: 0.6925 - val_loss: 0.6171\n",
            "Epoch 16/50\n",
            "\u001b[1m6213/6213\u001b[0m \u001b[32m━━━━━━━━━━━━━━━━━━━━\u001b[0m\u001b[37m\u001b[0m \u001b[1m20s\u001b[0m 2ms/step - accuracy: 0.6892 - loss: 0.6198 - val_accuracy: 0.6925 - val_loss: 0.6171\n",
            "Epoch 17/50\n",
            "\u001b[1m6213/6213\u001b[0m \u001b[32m━━━━━━━━━━━━━━━━━━━━\u001b[0m\u001b[37m\u001b[0m \u001b[1m13s\u001b[0m 2ms/step - accuracy: 0.6922 - loss: 0.6173 - val_accuracy: 0.6925 - val_loss: 0.6171\n",
            "Epoch 18/50\n",
            "\u001b[1m6213/6213\u001b[0m \u001b[32m━━━━━━━━━━━━━━━━━━━━\u001b[0m\u001b[37m\u001b[0m \u001b[1m15s\u001b[0m 2ms/step - accuracy: 0.6890 - loss: 0.6199 - val_accuracy: 0.6925 - val_loss: 0.6171\n",
            "Epoch 19/50\n",
            "\u001b[1m6213/6213\u001b[0m \u001b[32m━━━━━━━━━━━━━━━━━━━━\u001b[0m\u001b[37m\u001b[0m \u001b[1m19s\u001b[0m 2ms/step - accuracy: 0.6919 - loss: 0.6176 - val_accuracy: 0.6925 - val_loss: 0.6171\n",
            "Epoch 20/50\n",
            "\u001b[1m6213/6213\u001b[0m \u001b[32m━━━━━━━━━━━━━━━━━━━━\u001b[0m\u001b[37m\u001b[0m \u001b[1m12s\u001b[0m 2ms/step - accuracy: 0.6910 - loss: 0.6183 - val_accuracy: 0.6925 - val_loss: 0.6171\n",
            "Epoch 21/50\n",
            "\u001b[1m6213/6213\u001b[0m \u001b[32m━━━━━━━━━━━━━━━━━━━━\u001b[0m\u001b[37m\u001b[0m \u001b[1m14s\u001b[0m 2ms/step - accuracy: 0.6935 - loss: 0.6163 - val_accuracy: 0.6925 - val_loss: 0.6172\n",
            "Epoch 22/50\n",
            "\u001b[1m6213/6213\u001b[0m \u001b[32m━━━━━━━━━━━━━━━━━━━━\u001b[0m\u001b[37m\u001b[0m \u001b[1m21s\u001b[0m 2ms/step - accuracy: 0.6878 - loss: 0.6209 - val_accuracy: 0.6925 - val_loss: 0.6171\n",
            "Epoch 23/50\n",
            "\u001b[1m6213/6213\u001b[0m \u001b[32m━━━━━━━━━━━━━━━━━━━━\u001b[0m\u001b[37m\u001b[0m \u001b[1m20s\u001b[0m 2ms/step - accuracy: 0.6907 - loss: 0.6186 - val_accuracy: 0.6925 - val_loss: 0.6171\n",
            "Epoch 24/50\n",
            "\u001b[1m6213/6213\u001b[0m \u001b[32m━━━━━━━━━━━━━━━━━━━━\u001b[0m\u001b[37m\u001b[0m \u001b[1m15s\u001b[0m 2ms/step - accuracy: 0.6903 - loss: 0.6189 - val_accuracy: 0.6925 - val_loss: 0.6171\n",
            "Epoch 25/50\n",
            "\u001b[1m6213/6213\u001b[0m \u001b[32m━━━━━━━━━━━━━━━━━━━━\u001b[0m\u001b[37m\u001b[0m \u001b[1m15s\u001b[0m 2ms/step - accuracy: 0.6945 - loss: 0.6155 - val_accuracy: 0.6925 - val_loss: 0.6171\n",
            "Epoch 26/50\n",
            "\u001b[1m6213/6213\u001b[0m \u001b[32m━━━━━━━━━━━━━━━━━━━━\u001b[0m\u001b[37m\u001b[0m \u001b[1m19s\u001b[0m 2ms/step - accuracy: 0.6907 - loss: 0.6186 - val_accuracy: 0.6925 - val_loss: 0.6171\n",
            "Epoch 27/50\n",
            "\u001b[1m6213/6213\u001b[0m \u001b[32m━━━━━━━━━━━━━━━━━━━━\u001b[0m\u001b[37m\u001b[0m \u001b[1m25s\u001b[0m 3ms/step - accuracy: 0.6878 - loss: 0.6208 - val_accuracy: 0.6925 - val_loss: 0.6171\n",
            "Epoch 28/50\n",
            "\u001b[1m6213/6213\u001b[0m \u001b[32m━━━━━━━━━━━━━━━━━━━━\u001b[0m\u001b[37m\u001b[0m \u001b[1m17s\u001b[0m 2ms/step - accuracy: 0.6932 - loss: 0.6166 - val_accuracy: 0.6925 - val_loss: 0.6173\n",
            "Epoch 29/50\n",
            "\u001b[1m6213/6213\u001b[0m \u001b[32m━━━━━━━━━━━━━━━━━━━━\u001b[0m\u001b[37m\u001b[0m \u001b[1m20s\u001b[0m 2ms/step - accuracy: 0.6905 - loss: 0.6188 - val_accuracy: 0.6925 - val_loss: 0.6171\n",
            "Epoch 30/50\n",
            "\u001b[1m6213/6213\u001b[0m \u001b[32m━━━━━━━━━━━━━━━━━━━━\u001b[0m\u001b[37m\u001b[0m \u001b[1m17s\u001b[0m 3ms/step - accuracy: 0.6901 - loss: 0.6191 - val_accuracy: 0.6925 - val_loss: 0.6171\n",
            "Epoch 31/50\n",
            "\u001b[1m6213/6213\u001b[0m \u001b[32m━━━━━━━━━━━━━━━━━━━━\u001b[0m\u001b[37m\u001b[0m \u001b[1m14s\u001b[0m 2ms/step - accuracy: 0.6923 - loss: 0.6173 - val_accuracy: 0.6925 - val_loss: 0.6171\n",
            "Epoch 32/50\n",
            "\u001b[1m6213/6213\u001b[0m \u001b[32m━━━━━━━━━━━━━━━━━━━━\u001b[0m\u001b[37m\u001b[0m \u001b[1m14s\u001b[0m 2ms/step - accuracy: 0.6910 - loss: 0.6183 - val_accuracy: 0.6925 - val_loss: 0.6172\n",
            "Epoch 33/50\n",
            "\u001b[1m6213/6213\u001b[0m \u001b[32m━━━━━━━━━━━━━━━━━━━━\u001b[0m\u001b[37m\u001b[0m \u001b[1m13s\u001b[0m 2ms/step - accuracy: 0.6903 - loss: 0.6188 - val_accuracy: 0.6925 - val_loss: 0.6171\n",
            "Epoch 34/50\n",
            "\u001b[1m6213/6213\u001b[0m \u001b[32m━━━━━━━━━━━━━━━━━━━━\u001b[0m\u001b[37m\u001b[0m \u001b[1m13s\u001b[0m 2ms/step - accuracy: 0.6946 - loss: 0.6154 - val_accuracy: 0.6925 - val_loss: 0.6171\n",
            "Epoch 35/50\n",
            "\u001b[1m6213/6213\u001b[0m \u001b[32m━━━━━━━━━━━━━━━━━━━━\u001b[0m\u001b[37m\u001b[0m \u001b[1m13s\u001b[0m 2ms/step - accuracy: 0.6895 - loss: 0.6196 - val_accuracy: 0.6925 - val_loss: 0.6171\n",
            "Epoch 36/50\n",
            "\u001b[1m6213/6213\u001b[0m \u001b[32m━━━━━━━━━━━━━━━━━━━━\u001b[0m\u001b[37m\u001b[0m \u001b[1m14s\u001b[0m 2ms/step - accuracy: 0.6906 - loss: 0.6187 - val_accuracy: 0.6925 - val_loss: 0.6171\n",
            "Epoch 37/50\n",
            "\u001b[1m6213/6213\u001b[0m \u001b[32m━━━━━━━━━━━━━━━━━━━━\u001b[0m\u001b[37m\u001b[0m \u001b[1m19s\u001b[0m 2ms/step - accuracy: 0.6916 - loss: 0.6179 - val_accuracy: 0.6925 - val_loss: 0.6171\n",
            "Epoch 38/50\n",
            "\u001b[1m6213/6213\u001b[0m \u001b[32m━━━━━━━━━━━━━━━━━━━━\u001b[0m\u001b[37m\u001b[0m \u001b[1m21s\u001b[0m 2ms/step - accuracy: 0.6955 - loss: 0.6147 - val_accuracy: 0.6925 - val_loss: 0.6173\n",
            "Epoch 39/50\n",
            "\u001b[1m6213/6213\u001b[0m \u001b[32m━━━━━━━━━━━━━━━━━━━━\u001b[0m\u001b[37m\u001b[0m \u001b[1m14s\u001b[0m 2ms/step - accuracy: 0.6928 - loss: 0.6170 - val_accuracy: 0.6925 - val_loss: 0.6171\n",
            "Epoch 40/50\n",
            "\u001b[1m6213/6213\u001b[0m \u001b[32m━━━━━━━━━━━━━━━━━━━━\u001b[0m\u001b[37m\u001b[0m \u001b[1m21s\u001b[0m 2ms/step - accuracy: 0.6906 - loss: 0.6187 - val_accuracy: 0.6925 - val_loss: 0.6171\n",
            "Epoch 41/50\n",
            "\u001b[1m6213/6213\u001b[0m \u001b[32m━━━━━━━━━━━━━━━━━━━━\u001b[0m\u001b[37m\u001b[0m \u001b[1m14s\u001b[0m 2ms/step - accuracy: 0.6925 - loss: 0.6172 - val_accuracy: 0.6925 - val_loss: 0.6172\n",
            "Epoch 42/50\n",
            "\u001b[1m6213/6213\u001b[0m \u001b[32m━━━━━━━━━━━━━━━━━━━━\u001b[0m\u001b[37m\u001b[0m \u001b[1m14s\u001b[0m 2ms/step - accuracy: 0.6890 - loss: 0.6200 - val_accuracy: 0.6925 - val_loss: 0.6171\n",
            "Epoch 43/50\n",
            "\u001b[1m6213/6213\u001b[0m \u001b[32m━━━━━━━━━━━━━━━━━━━━\u001b[0m\u001b[37m\u001b[0m \u001b[1m20s\u001b[0m 2ms/step - accuracy: 0.6919 - loss: 0.6176 - val_accuracy: 0.6925 - val_loss: 0.6171\n",
            "Epoch 44/50\n",
            "\u001b[1m6213/6213\u001b[0m \u001b[32m━━━━━━━━━━━━━━━━━━━━\u001b[0m\u001b[37m\u001b[0m \u001b[1m13s\u001b[0m 2ms/step - accuracy: 0.6885 - loss: 0.6203 - val_accuracy: 0.6925 - val_loss: 0.6171\n",
            "Epoch 45/50\n",
            "\u001b[1m6213/6213\u001b[0m \u001b[32m━━━━━━━━━━━━━━━━━━━━\u001b[0m\u001b[37m\u001b[0m \u001b[1m14s\u001b[0m 2ms/step - accuracy: 0.6908 - loss: 0.6185 - val_accuracy: 0.6925 - val_loss: 0.6171\n",
            "Epoch 46/50\n",
            "\u001b[1m6213/6213\u001b[0m \u001b[32m━━━━━━━━━━━━━━━━━━━━\u001b[0m\u001b[37m\u001b[0m \u001b[1m14s\u001b[0m 2ms/step - accuracy: 0.6916 - loss: 0.6179 - val_accuracy: 0.6925 - val_loss: 0.6171\n",
            "Epoch 47/50\n",
            "\u001b[1m6213/6213\u001b[0m \u001b[32m━━━━━━━━━━━━━━━━━━━━\u001b[0m\u001b[37m\u001b[0m \u001b[1m22s\u001b[0m 3ms/step - accuracy: 0.6903 - loss: 0.6189 - val_accuracy: 0.6925 - val_loss: 0.6171\n",
            "Epoch 48/50\n",
            "\u001b[1m6213/6213\u001b[0m \u001b[32m━━━━━━━━━━━━━━━━━━━━\u001b[0m\u001b[37m\u001b[0m \u001b[1m19s\u001b[0m 2ms/step - accuracy: 0.6877 - loss: 0.6210 - val_accuracy: 0.6925 - val_loss: 0.6171\n",
            "Epoch 49/50\n",
            "\u001b[1m6213/6213\u001b[0m \u001b[32m━━━━━━━━━━━━━━━━━━━━\u001b[0m\u001b[37m\u001b[0m \u001b[1m15s\u001b[0m 2ms/step - accuracy: 0.6897 - loss: 0.6194 - val_accuracy: 0.6925 - val_loss: 0.6171\n",
            "Epoch 50/50\n",
            "\u001b[1m6213/6213\u001b[0m \u001b[32m━━━━━━━━━━━━━━━━━━━━\u001b[0m\u001b[37m\u001b[0m \u001b[1m20s\u001b[0m 2ms/step - accuracy: 0.6916 - loss: 0.6179 - val_accuracy: 0.6925 - val_loss: 0.6171\n"
          ]
        },
        {
          "output_type": "execute_result",
          "data": {
            "text/plain": [
              "<keras.src.callbacks.history.History at 0x7fe6e8e23b20>"
            ]
          },
          "metadata": {},
          "execution_count": 57
        }
      ]
    },
    {
      "cell_type": "markdown",
      "source": [
        "# Presición del modelo"
      ],
      "metadata": {
        "id": "dU2gKYzJIINr"
      }
    },
    {
      "cell_type": "code",
      "source": [
        "loss, acc = model.evaluate(X_test, y_test)\n",
        "print(acc*100)"
      ],
      "metadata": {
        "colab": {
          "base_uri": "https://localhost:8080/"
        },
        "id": "EhG-KzbSIN_P",
        "outputId": "a0f2c293-6245-4790-d410-c89ddc4d1131"
      },
      "execution_count": 59,
      "outputs": [
        {
          "output_type": "stream",
          "name": "stdout",
          "text": [
            "\u001b[1m486/486\u001b[0m \u001b[32m━━━━━━━━━━━━━━━━━━━━\u001b[0m\u001b[37m\u001b[0m \u001b[1m1s\u001b[0m 1ms/step - accuracy: 0.6851 - loss: 0.6231\n",
            "69.24859881401062\n"
          ]
        }
      ]
    },
    {
      "cell_type": "markdown",
      "source": [
        "## Realizar predicciones"
      ],
      "metadata": {
        "id": "G5hEy2wKIZEM"
      }
    },
    {
      "cell_type": "code",
      "source": [
        "\n",
        "estudiante = np.array([[11, 15, 2, 5000, 1005, 30000]])\n",
        "p = model.predict(estudiante)\n",
        "print(p*100)\n",
        "\n",
        "estudiante2 = np.array([[13, 34, 1, 10000, 1005, 50000]])\n",
        "p = model.predict(estudiante2)\n",
        "print(p*100)\n",
        ""
      ],
      "metadata": {
        "colab": {
          "base_uri": "https://localhost:8080/",
          "height": 478
        },
        "id": "XGbAkZEfIgqs",
        "outputId": "4396b883-f593-4c66-a00f-132747d776ee"
      },
      "execution_count": 96,
      "outputs": [
        {
          "output_type": "error",
          "ename": "ValueError",
          "evalue": "Exception encountered when calling Sequential.call().\n\n\u001b[1mInput 0 of layer \"dense_47\" is incompatible with the layer: expected axis -1 of input shape to have value 5, but received input with shape (1, 6)\u001b[0m\n\nArguments received by Sequential.call():\n  • inputs=tf.Tensor(shape=(1, 6), dtype=int64)\n  • training=False\n  • mask=None",
          "traceback": [
            "\u001b[0;31m---------------------------------------------------------------------------\u001b[0m",
            "\u001b[0;31mValueError\u001b[0m                                Traceback (most recent call last)",
            "\u001b[0;32m<ipython-input-96-840a5cfa2269>\u001b[0m in \u001b[0;36m<cell line: 2>\u001b[0;34m()\u001b[0m\n\u001b[1;32m      1\u001b[0m \u001b[0mestudiante\u001b[0m \u001b[0;34m=\u001b[0m \u001b[0mnp\u001b[0m\u001b[0;34m.\u001b[0m\u001b[0marray\u001b[0m\u001b[0;34m(\u001b[0m\u001b[0;34m[\u001b[0m\u001b[0;34m[\u001b[0m\u001b[0;36m11\u001b[0m\u001b[0;34m,\u001b[0m \u001b[0;36m15\u001b[0m\u001b[0;34m,\u001b[0m \u001b[0;36m2\u001b[0m\u001b[0;34m,\u001b[0m \u001b[0;36m5000\u001b[0m\u001b[0;34m,\u001b[0m \u001b[0;36m1005\u001b[0m\u001b[0;34m,\u001b[0m \u001b[0;36m30000\u001b[0m\u001b[0;34m]\u001b[0m\u001b[0;34m]\u001b[0m\u001b[0;34m)\u001b[0m\u001b[0;34m\u001b[0m\u001b[0;34m\u001b[0m\u001b[0m\n\u001b[0;32m----> 2\u001b[0;31m \u001b[0mp\u001b[0m \u001b[0;34m=\u001b[0m \u001b[0mmodel\u001b[0m\u001b[0;34m.\u001b[0m\u001b[0mpredict\u001b[0m\u001b[0;34m(\u001b[0m\u001b[0mestudiante\u001b[0m\u001b[0;34m)\u001b[0m\u001b[0;34m\u001b[0m\u001b[0;34m\u001b[0m\u001b[0m\n\u001b[0m\u001b[1;32m      3\u001b[0m \u001b[0mprint\u001b[0m\u001b[0;34m(\u001b[0m\u001b[0mp\u001b[0m\u001b[0;34m*\u001b[0m\u001b[0;36m100\u001b[0m\u001b[0;34m)\u001b[0m\u001b[0;34m\u001b[0m\u001b[0;34m\u001b[0m\u001b[0m\n\u001b[1;32m      4\u001b[0m \u001b[0;34m\u001b[0m\u001b[0m\n\u001b[1;32m      5\u001b[0m \u001b[0mestudiante2\u001b[0m \u001b[0;34m=\u001b[0m \u001b[0mnp\u001b[0m\u001b[0;34m.\u001b[0m\u001b[0marray\u001b[0m\u001b[0;34m(\u001b[0m\u001b[0;34m[\u001b[0m\u001b[0;34m[\u001b[0m\u001b[0;36m13\u001b[0m\u001b[0;34m,\u001b[0m \u001b[0;36m34\u001b[0m\u001b[0;34m,\u001b[0m \u001b[0;36m1\u001b[0m\u001b[0;34m,\u001b[0m \u001b[0;36m10000\u001b[0m\u001b[0;34m,\u001b[0m \u001b[0;36m1005\u001b[0m\u001b[0;34m,\u001b[0m \u001b[0;36m50000\u001b[0m\u001b[0;34m]\u001b[0m\u001b[0;34m]\u001b[0m\u001b[0;34m)\u001b[0m\u001b[0;34m\u001b[0m\u001b[0;34m\u001b[0m\u001b[0m\n",
            "\u001b[0;32m/usr/local/lib/python3.10/dist-packages/keras/src/utils/traceback_utils.py\u001b[0m in \u001b[0;36merror_handler\u001b[0;34m(*args, **kwargs)\u001b[0m\n\u001b[1;32m    120\u001b[0m             \u001b[0;31m# To get the full stack trace, call:\u001b[0m\u001b[0;34m\u001b[0m\u001b[0;34m\u001b[0m\u001b[0m\n\u001b[1;32m    121\u001b[0m             \u001b[0;31m# `keras.config.disable_traceback_filtering()`\u001b[0m\u001b[0;34m\u001b[0m\u001b[0;34m\u001b[0m\u001b[0m\n\u001b[0;32m--> 122\u001b[0;31m             \u001b[0;32mraise\u001b[0m \u001b[0me\u001b[0m\u001b[0;34m.\u001b[0m\u001b[0mwith_traceback\u001b[0m\u001b[0;34m(\u001b[0m\u001b[0mfiltered_tb\u001b[0m\u001b[0;34m)\u001b[0m \u001b[0;32mfrom\u001b[0m \u001b[0;32mNone\u001b[0m\u001b[0;34m\u001b[0m\u001b[0;34m\u001b[0m\u001b[0m\n\u001b[0m\u001b[1;32m    123\u001b[0m         \u001b[0;32mfinally\u001b[0m\u001b[0;34m:\u001b[0m\u001b[0;34m\u001b[0m\u001b[0;34m\u001b[0m\u001b[0m\n\u001b[1;32m    124\u001b[0m             \u001b[0;32mdel\u001b[0m \u001b[0mfiltered_tb\u001b[0m\u001b[0;34m\u001b[0m\u001b[0;34m\u001b[0m\u001b[0m\n",
            "\u001b[0;32m/usr/local/lib/python3.10/dist-packages/keras/src/layers/input_spec.py\u001b[0m in \u001b[0;36massert_input_compatibility\u001b[0;34m(input_spec, inputs, layer_name)\u001b[0m\n\u001b[1;32m    225\u001b[0m                     \u001b[0;32mNone\u001b[0m\u001b[0;34m,\u001b[0m\u001b[0;34m\u001b[0m\u001b[0;34m\u001b[0m\u001b[0m\n\u001b[1;32m    226\u001b[0m                 }:\n\u001b[0;32m--> 227\u001b[0;31m                     raise ValueError(\n\u001b[0m\u001b[1;32m    228\u001b[0m                         \u001b[0;34mf'Input {input_index} of layer \"{layer_name}\" is '\u001b[0m\u001b[0;34m\u001b[0m\u001b[0;34m\u001b[0m\u001b[0m\n\u001b[1;32m    229\u001b[0m                         \u001b[0;34mf\"incompatible with the layer: expected axis {axis} \"\u001b[0m\u001b[0;34m\u001b[0m\u001b[0;34m\u001b[0m\u001b[0m\n",
            "\u001b[0;31mValueError\u001b[0m: Exception encountered when calling Sequential.call().\n\n\u001b[1mInput 0 of layer \"dense_47\" is incompatible with the layer: expected axis -1 of input shape to have value 5, but received input with shape (1, 6)\u001b[0m\n\nArguments received by Sequential.call():\n  • inputs=tf.Tensor(shape=(1, 6), dtype=int64)\n  • training=False\n  • mask=None"
          ]
        }
      ]
    },
    {
      "cell_type": "markdown",
      "source": [
        "# Red 2"
      ],
      "metadata": {
        "id": "5knljTAtEfgu"
      }
    },
    {
      "cell_type": "markdown",
      "source": [
        "## Definir la variable a predecir"
      ],
      "metadata": {
        "id": "Yi0UecwtEilK"
      }
    },
    {
      "cell_type": "code",
      "source": [
        "data_importacion['IsCanadaHondura'] = data_importacion.apply(\n",
        "    lambda row: 1 if (row['PAIS'] == 1003 and row['PAIS'] == 2102  and row['VIA'] == 1 and row['VIA'] == 3 ) else 0,\n",
        "    axis=1\n",
        ")\n"
      ],
      "metadata": {
        "id": "yXXczYDQEjXM"
      },
      "execution_count": 89,
      "outputs": []
    },
    {
      "cell_type": "markdown",
      "source": [
        "## Inyectar aleatoriedad"
      ],
      "metadata": {
        "id": "6b0lrAIhEsfH"
      }
    },
    {
      "cell_type": "code",
      "source": [
        "data_importacion = data_importacion.sample(frac = 1, random_state = 42).reset_index(drop=True)"
      ],
      "metadata": {
        "id": "BZ1xEqk5Eqzn"
      },
      "execution_count": 90,
      "outputs": []
    },
    {
      "cell_type": "markdown",
      "source": [
        "## Definición de variables dependientes e independientes"
      ],
      "metadata": {
        "id": "miwSGEapEzH0"
      }
    },
    {
      "cell_type": "code",
      "source": [
        "X = data_importacion[[ 'CAPITULO', 'ADUANA','VIA','PESO', 'VALOR']]\n",
        "y = data_importacion['IsCanadaHondura']"
      ],
      "metadata": {
        "id": "XC7EJ9plEz6J"
      },
      "execution_count": 91,
      "outputs": []
    },
    {
      "cell_type": "markdown",
      "source": [
        "## Definición de set de entreno y prueba"
      ],
      "metadata": {
        "id": "rDMe3aJXERoB"
      }
    },
    {
      "cell_type": "code",
      "source": [
        "X_train, X_test, y_train, y_test  = train_test_split(X, y, test_size = 0.2, random_state = 42)"
      ],
      "metadata": {
        "id": "YrhEJ9emESt2"
      },
      "execution_count": 92,
      "outputs": []
    },
    {
      "cell_type": "markdown",
      "source": [
        "## Diseño de la red neuronal"
      ],
      "metadata": {
        "id": "WEFIgprlFSrG"
      }
    },
    {
      "cell_type": "code",
      "source": [
        "\n",
        "model = Sequential()\n",
        "model.add(Dense(16, input_dim = 5, activation = 'relu'))\n",
        "model.add(Dense(8, activation='relu'))\n",
        "model.add(Dense(4, activation='relu'))\n",
        "model.add(Dense(2, activation='relu'))\n",
        "model.add(Dense(1, activation='sigmoid'))"
      ],
      "metadata": {
        "colab": {
          "base_uri": "https://localhost:8080/"
        },
        "id": "QqrbKH3PFTsz",
        "outputId": "7afffac2-0114-45e6-ef68-6e067a8966ee"
      },
      "execution_count": 93,
      "outputs": [
        {
          "output_type": "stream",
          "name": "stderr",
          "text": [
            "/usr/local/lib/python3.10/dist-packages/keras/src/layers/core/dense.py:87: UserWarning: Do not pass an `input_shape`/`input_dim` argument to a layer. When using Sequential models, prefer using an `Input(shape)` object as the first layer in the model instead.\n",
            "  super().__init__(activity_regularizer=activity_regularizer, **kwargs)\n"
          ]
        }
      ]
    },
    {
      "cell_type": "markdown",
      "source": [
        "## Compilación de la red"
      ],
      "metadata": {
        "id": "haXGBQJ9GQP7"
      }
    },
    {
      "cell_type": "code",
      "source": [
        "model.compile(loss ='binary_crossentropy', optimizer ='adam', metrics =['accuracy'])"
      ],
      "metadata": {
        "id": "R7N_XgK8GQ41"
      },
      "execution_count": 94,
      "outputs": []
    },
    {
      "cell_type": "markdown",
      "source": [
        "## Entreno y testeo"
      ],
      "metadata": {
        "id": "jTLd4zvTGhHo"
      }
    },
    {
      "cell_type": "code",
      "source": [
        "model.fit(X_train, y_train, epochs = 50, batch_size = 40, validation_data=(X_test, y_test))"
      ],
      "metadata": {
        "colab": {
          "base_uri": "https://localhost:8080/"
        },
        "id": "M688cfvLGh5a",
        "outputId": "a0c4ed1d-6025-49de-b479-ba78761a6583"
      },
      "execution_count": 95,
      "outputs": [
        {
          "output_type": "stream",
          "name": "stdout",
          "text": [
            "Epoch 1/50\n",
            "\u001b[1m1554/1554\u001b[0m \u001b[32m━━━━━━━━━━━━━━━━━━━━\u001b[0m\u001b[37m\u001b[0m \u001b[1m6s\u001b[0m 3ms/step - accuracy: 0.9999 - loss: 0.0074 - val_accuracy: 1.0000 - val_loss: 5.0760e-05\n",
            "Epoch 2/50\n",
            "\u001b[1m1554/1554\u001b[0m \u001b[32m━━━━━━━━━━━━━━━━━━━━\u001b[0m\u001b[37m\u001b[0m \u001b[1m3s\u001b[0m 2ms/step - accuracy: 1.0000 - loss: 9.9969e-06 - val_accuracy: 1.0000 - val_loss: 7.9016e-06\n",
            "Epoch 3/50\n",
            "\u001b[1m1554/1554\u001b[0m \u001b[32m━━━━━━━━━━━━━━━━━━━━\u001b[0m\u001b[37m\u001b[0m \u001b[1m3s\u001b[0m 2ms/step - accuracy: 1.0000 - loss: 1.0507e-06 - val_accuracy: 1.0000 - val_loss: 3.0760e-06\n",
            "Epoch 4/50\n",
            "\u001b[1m1554/1554\u001b[0m \u001b[32m━━━━━━━━━━━━━━━━━━━━\u001b[0m\u001b[37m\u001b[0m \u001b[1m3s\u001b[0m 2ms/step - accuracy: 1.0000 - loss: 1.1454e-07 - val_accuracy: 1.0000 - val_loss: 1.4754e-06\n",
            "Epoch 5/50\n",
            "\u001b[1m1554/1554\u001b[0m \u001b[32m━━━━━━━━━━━━━━━━━━━━\u001b[0m\u001b[37m\u001b[0m \u001b[1m4s\u001b[0m 3ms/step - accuracy: 1.0000 - loss: 1.1872e-07 - val_accuracy: 1.0000 - val_loss: 7.9034e-07\n",
            "Epoch 6/50\n",
            "\u001b[1m1554/1554\u001b[0m \u001b[32m━━━━━━━━━━━━━━━━━━━━\u001b[0m\u001b[37m\u001b[0m \u001b[1m4s\u001b[0m 2ms/step - accuracy: 1.0000 - loss: 3.8415e-08 - val_accuracy: 1.0000 - val_loss: 4.5089e-07\n",
            "Epoch 7/50\n",
            "\u001b[1m1554/1554\u001b[0m \u001b[32m━━━━━━━━━━━━━━━━━━━━\u001b[0m\u001b[37m\u001b[0m \u001b[1m3s\u001b[0m 2ms/step - accuracy: 1.0000 - loss: 2.7740e-08 - val_accuracy: 1.0000 - val_loss: 2.6333e-07\n",
            "Epoch 8/50\n",
            "\u001b[1m1554/1554\u001b[0m \u001b[32m━━━━━━━━━━━━━━━━━━━━\u001b[0m\u001b[37m\u001b[0m \u001b[1m6s\u001b[0m 2ms/step - accuracy: 1.0000 - loss: 8.4251e-09 - val_accuracy: 1.0000 - val_loss: 1.4106e-07\n",
            "Epoch 9/50\n",
            "\u001b[1m1554/1554\u001b[0m \u001b[32m━━━━━━━━━━━━━━━━━━━━\u001b[0m\u001b[37m\u001b[0m \u001b[1m4s\u001b[0m 3ms/step - accuracy: 1.0000 - loss: 2.1182e-09 - val_accuracy: 1.0000 - val_loss: 7.8571e-08\n",
            "Epoch 10/50\n",
            "\u001b[1m1554/1554\u001b[0m \u001b[32m━━━━━━━━━━━━━━━━━━━━\u001b[0m\u001b[37m\u001b[0m \u001b[1m4s\u001b[0m 2ms/step - accuracy: 1.0000 - loss: 1.5028e-09 - val_accuracy: 1.0000 - val_loss: 5.1125e-08\n",
            "Epoch 11/50\n",
            "\u001b[1m1554/1554\u001b[0m \u001b[32m━━━━━━━━━━━━━━━━━━━━\u001b[0m\u001b[37m\u001b[0m \u001b[1m3s\u001b[0m 2ms/step - accuracy: 1.0000 - loss: 2.4356e-10 - val_accuracy: 1.0000 - val_loss: 2.9472e-08\n",
            "Epoch 12/50\n",
            "\u001b[1m1554/1554\u001b[0m \u001b[32m━━━━━━━━━━━━━━━━━━━━\u001b[0m\u001b[37m\u001b[0m \u001b[1m6s\u001b[0m 3ms/step - accuracy: 1.0000 - loss: 1.5666e-10 - val_accuracy: 1.0000 - val_loss: 1.9295e-08\n",
            "Epoch 13/50\n",
            "\u001b[1m1554/1554\u001b[0m \u001b[32m━━━━━━━━━━━━━━━━━━━━\u001b[0m\u001b[37m\u001b[0m \u001b[1m4s\u001b[0m 2ms/step - accuracy: 1.0000 - loss: 1.0964e-10 - val_accuracy: 1.0000 - val_loss: 1.3343e-08\n",
            "Epoch 14/50\n",
            "\u001b[1m1554/1554\u001b[0m \u001b[32m━━━━━━━━━━━━━━━━━━━━\u001b[0m\u001b[37m\u001b[0m \u001b[1m4s\u001b[0m 2ms/step - accuracy: 1.0000 - loss: 1.5911e-10 - val_accuracy: 1.0000 - val_loss: 9.7086e-09\n",
            "Epoch 15/50\n",
            "\u001b[1m1554/1554\u001b[0m \u001b[32m━━━━━━━━━━━━━━━━━━━━\u001b[0m\u001b[37m\u001b[0m \u001b[1m3s\u001b[0m 2ms/step - accuracy: 1.0000 - loss: 3.7353e-11 - val_accuracy: 1.0000 - val_loss: 7.1241e-09\n",
            "Epoch 16/50\n",
            "\u001b[1m1554/1554\u001b[0m \u001b[32m━━━━━━━━━━━━━━━━━━━━\u001b[0m\u001b[37m\u001b[0m \u001b[1m4s\u001b[0m 3ms/step - accuracy: 1.0000 - loss: 3.1963e-11 - val_accuracy: 1.0000 - val_loss: 5.4259e-09\n",
            "Epoch 17/50\n",
            "\u001b[1m1554/1554\u001b[0m \u001b[32m━━━━━━━━━━━━━━━━━━━━\u001b[0m\u001b[37m\u001b[0m \u001b[1m4s\u001b[0m 3ms/step - accuracy: 1.0000 - loss: 8.0640e-12 - val_accuracy: 1.0000 - val_loss: 4.2190e-09\n",
            "Epoch 18/50\n",
            "\u001b[1m1554/1554\u001b[0m \u001b[32m━━━━━━━━━━━━━━━━━━━━\u001b[0m\u001b[37m\u001b[0m \u001b[1m3s\u001b[0m 2ms/step - accuracy: 1.0000 - loss: 5.0914e-11 - val_accuracy: 1.0000 - val_loss: 3.4831e-09\n",
            "Epoch 19/50\n",
            "\u001b[1m1554/1554\u001b[0m \u001b[32m━━━━━━━━━━━━━━━━━━━━\u001b[0m\u001b[37m\u001b[0m \u001b[1m3s\u001b[0m 2ms/step - accuracy: 1.0000 - loss: 7.8164e-12 - val_accuracy: 1.0000 - val_loss: 2.9141e-09\n",
            "Epoch 20/50\n",
            "\u001b[1m1554/1554\u001b[0m \u001b[32m━━━━━━━━━━━━━━━━━━━━\u001b[0m\u001b[37m\u001b[0m \u001b[1m3s\u001b[0m 2ms/step - accuracy: 1.0000 - loss: 4.9946e-12 - val_accuracy: 1.0000 - val_loss: 2.5112e-09\n",
            "Epoch 21/50\n",
            "\u001b[1m1554/1554\u001b[0m \u001b[32m━━━━━━━━━━━━━━━━━━━━\u001b[0m\u001b[37m\u001b[0m \u001b[1m6s\u001b[0m 2ms/step - accuracy: 1.0000 - loss: 1.5696e-12 - val_accuracy: 1.0000 - val_loss: 2.2142e-09\n",
            "Epoch 22/50\n",
            "\u001b[1m1554/1554\u001b[0m \u001b[32m━━━━━━━━━━━━━━━━━━━━\u001b[0m\u001b[37m\u001b[0m \u001b[1m4s\u001b[0m 2ms/step - accuracy: 1.0000 - loss: 2.9874e-12 - val_accuracy: 1.0000 - val_loss: 1.9891e-09\n",
            "Epoch 23/50\n",
            "\u001b[1m1554/1554\u001b[0m \u001b[32m━━━━━━━━━━━━━━━━━━━━\u001b[0m\u001b[37m\u001b[0m \u001b[1m3s\u001b[0m 2ms/step - accuracy: 1.0000 - loss: 1.3947e-11 - val_accuracy: 1.0000 - val_loss: 1.8131e-09\n",
            "Epoch 24/50\n",
            "\u001b[1m1554/1554\u001b[0m \u001b[32m━━━━━━━━━━━━━━━━━━━━\u001b[0m\u001b[37m\u001b[0m \u001b[1m4s\u001b[0m 3ms/step - accuracy: 1.0000 - loss: 5.1511e-12 - val_accuracy: 1.0000 - val_loss: 1.6686e-09\n",
            "Epoch 25/50\n",
            "\u001b[1m1554/1554\u001b[0m \u001b[32m━━━━━━━━━━━━━━━━━━━━\u001b[0m\u001b[37m\u001b[0m \u001b[1m4s\u001b[0m 2ms/step - accuracy: 1.0000 - loss: 7.2338e-12 - val_accuracy: 1.0000 - val_loss: 1.5489e-09\n",
            "Epoch 26/50\n",
            "\u001b[1m1554/1554\u001b[0m \u001b[32m━━━━━━━━━━━━━━━━━━━━\u001b[0m\u001b[37m\u001b[0m \u001b[1m5s\u001b[0m 2ms/step - accuracy: 1.0000 - loss: 8.1809e-12 - val_accuracy: 1.0000 - val_loss: 1.4477e-09\n",
            "Epoch 27/50\n",
            "\u001b[1m1554/1554\u001b[0m \u001b[32m━━━━━━━━━━━━━━━━━━━━\u001b[0m\u001b[37m\u001b[0m \u001b[1m4s\u001b[0m 2ms/step - accuracy: 1.0000 - loss: 6.0462e-12 - val_accuracy: 1.0000 - val_loss: 1.3613e-09\n",
            "Epoch 28/50\n",
            "\u001b[1m1554/1554\u001b[0m \u001b[32m━━━━━━━━━━━━━━━━━━━━\u001b[0m\u001b[37m\u001b[0m \u001b[1m5s\u001b[0m 3ms/step - accuracy: 1.0000 - loss: 3.2039e-12 - val_accuracy: 1.0000 - val_loss: 1.2857e-09\n",
            "Epoch 29/50\n",
            "\u001b[1m1554/1554\u001b[0m \u001b[32m━━━━━━━━━━━━━━━━━━━━\u001b[0m\u001b[37m\u001b[0m \u001b[1m4s\u001b[0m 3ms/step - accuracy: 1.0000 - loss: 1.8686e-12 - val_accuracy: 1.0000 - val_loss: 1.2196e-09\n",
            "Epoch 30/50\n",
            "\u001b[1m1554/1554\u001b[0m \u001b[32m━━━━━━━━━━━━━━━━━━━━\u001b[0m\u001b[37m\u001b[0m \u001b[1m4s\u001b[0m 2ms/step - accuracy: 1.0000 - loss: 9.9144e-13 - val_accuracy: 1.0000 - val_loss: 1.1611e-09\n",
            "Epoch 31/50\n",
            "\u001b[1m1554/1554\u001b[0m \u001b[32m━━━━━━━━━━━━━━━━━━━━\u001b[0m\u001b[37m\u001b[0m \u001b[1m6s\u001b[0m 2ms/step - accuracy: 1.0000 - loss: 7.5429e-13 - val_accuracy: 1.0000 - val_loss: 1.1089e-09\n",
            "Epoch 32/50\n",
            "\u001b[1m1554/1554\u001b[0m \u001b[32m━━━━━━━━━━━━━━━━━━━━\u001b[0m\u001b[37m\u001b[0m \u001b[1m3s\u001b[0m 2ms/step - accuracy: 1.0000 - loss: 1.6639e-12 - val_accuracy: 1.0000 - val_loss: 1.0621e-09\n",
            "Epoch 33/50\n",
            "\u001b[1m1554/1554\u001b[0m \u001b[32m━━━━━━━━━━━━━━━━━━━━\u001b[0m\u001b[37m\u001b[0m \u001b[1m5s\u001b[0m 2ms/step - accuracy: 1.0000 - loss: 3.3336e-12 - val_accuracy: 1.0000 - val_loss: 1.0198e-09\n",
            "Epoch 34/50\n",
            "\u001b[1m1554/1554\u001b[0m \u001b[32m━━━━━━━━━━━━━━━━━━━━\u001b[0m\u001b[37m\u001b[0m \u001b[1m6s\u001b[0m 3ms/step - accuracy: 1.0000 - loss: 2.5745e-12 - val_accuracy: 1.0000 - val_loss: 9.8117e-10\n",
            "Epoch 35/50\n",
            "\u001b[1m1554/1554\u001b[0m \u001b[32m━━━━━━━━━━━━━━━━━━━━\u001b[0m\u001b[37m\u001b[0m \u001b[1m3s\u001b[0m 2ms/step - accuracy: 1.0000 - loss: 2.9952e-13 - val_accuracy: 1.0000 - val_loss: 9.5818e-10\n",
            "Epoch 36/50\n",
            "\u001b[1m1554/1554\u001b[0m \u001b[32m━━━━━━━━━━━━━━━━━━━━\u001b[0m\u001b[37m\u001b[0m \u001b[1m3s\u001b[0m 2ms/step - accuracy: 1.0000 - loss: 9.6968e-13 - val_accuracy: 1.0000 - val_loss: 9.1349e-10\n",
            "Epoch 37/50\n",
            "\u001b[1m1554/1554\u001b[0m \u001b[32m━━━━━━━━━━━━━━━━━━━━\u001b[0m\u001b[37m\u001b[0m \u001b[1m3s\u001b[0m 2ms/step - accuracy: 1.0000 - loss: 1.4416e-12 - val_accuracy: 1.0000 - val_loss: 8.8632e-10\n",
            "Epoch 38/50\n",
            "\u001b[1m1554/1554\u001b[0m \u001b[32m━━━━━━━━━━━━━━━━━━━━\u001b[0m\u001b[37m\u001b[0m \u001b[1m5s\u001b[0m 2ms/step - accuracy: 1.0000 - loss: 4.9158e-12 - val_accuracy: 1.0000 - val_loss: 8.5615e-10\n",
            "Epoch 39/50\n",
            "\u001b[1m1554/1554\u001b[0m \u001b[32m━━━━━━━━━━━━━━━━━━━━\u001b[0m\u001b[37m\u001b[0m \u001b[1m5s\u001b[0m 2ms/step - accuracy: 1.0000 - loss: 4.8974e-13 - val_accuracy: 1.0000 - val_loss: 8.3120e-10\n",
            "Epoch 40/50\n",
            "\u001b[1m1554/1554\u001b[0m \u001b[32m━━━━━━━━━━━━━━━━━━━━\u001b[0m\u001b[37m\u001b[0m \u001b[1m3s\u001b[0m 2ms/step - accuracy: 1.0000 - loss: 2.4001e-12 - val_accuracy: 1.0000 - val_loss: 8.0664e-10\n",
            "Epoch 41/50\n",
            "\u001b[1m1554/1554\u001b[0m \u001b[32m━━━━━━━━━━━━━━━━━━━━\u001b[0m\u001b[37m\u001b[0m \u001b[1m4s\u001b[0m 3ms/step - accuracy: 1.0000 - loss: 1.2751e-12 - val_accuracy: 1.0000 - val_loss: 7.8436e-10\n",
            "Epoch 42/50\n",
            "\u001b[1m1554/1554\u001b[0m \u001b[32m━━━━━━━━━━━━━━━━━━━━\u001b[0m\u001b[37m\u001b[0m \u001b[1m4s\u001b[0m 2ms/step - accuracy: 1.0000 - loss: 1.4250e-12 - val_accuracy: 1.0000 - val_loss: 7.6350e-10\n",
            "Epoch 43/50\n",
            "\u001b[1m1554/1554\u001b[0m \u001b[32m━━━━━━━━━━━━━━━━━━━━\u001b[0m\u001b[37m\u001b[0m \u001b[1m4s\u001b[0m 3ms/step - accuracy: 1.0000 - loss: 1.7852e-12 - val_accuracy: 1.0000 - val_loss: 7.4391e-10\n",
            "Epoch 44/50\n",
            "\u001b[1m1554/1554\u001b[0m \u001b[32m━━━━━━━━━━━━━━━━━━━━\u001b[0m\u001b[37m\u001b[0m \u001b[1m3s\u001b[0m 2ms/step - accuracy: 1.0000 - loss: 3.6449e-12 - val_accuracy: 1.0000 - val_loss: 7.2552e-10\n",
            "Epoch 45/50\n",
            "\u001b[1m1554/1554\u001b[0m \u001b[32m━━━━━━━━━━━━━━━━━━━━\u001b[0m\u001b[37m\u001b[0m \u001b[1m5s\u001b[0m 2ms/step - accuracy: 1.0000 - loss: 7.6789e-13 - val_accuracy: 1.0000 - val_loss: 7.0814e-10\n",
            "Epoch 46/50\n",
            "\u001b[1m1554/1554\u001b[0m \u001b[32m━━━━━━━━━━━━━━━━━━━━\u001b[0m\u001b[37m\u001b[0m \u001b[1m3s\u001b[0m 2ms/step - accuracy: 1.0000 - loss: 2.3177e-12 - val_accuracy: 1.0000 - val_loss: 6.9177e-10\n",
            "Epoch 47/50\n",
            "\u001b[1m1554/1554\u001b[0m \u001b[32m━━━━━━━━━━━━━━━━━━━━\u001b[0m\u001b[37m\u001b[0m \u001b[1m4s\u001b[0m 3ms/step - accuracy: 1.0000 - loss: 2.7089e-13 - val_accuracy: 1.0000 - val_loss: 6.7623e-10\n",
            "Epoch 48/50\n",
            "\u001b[1m1554/1554\u001b[0m \u001b[32m━━━━━━━━━━━━━━━━━━━━\u001b[0m\u001b[37m\u001b[0m \u001b[1m6s\u001b[0m 4ms/step - accuracy: 1.0000 - loss: 1.2736e-12 - val_accuracy: 1.0000 - val_loss: 6.6153e-10\n",
            "Epoch 49/50\n",
            "\u001b[1m1554/1554\u001b[0m \u001b[32m━━━━━━━━━━━━━━━━━━━━\u001b[0m\u001b[37m\u001b[0m \u001b[1m4s\u001b[0m 2ms/step - accuracy: 1.0000 - loss: 1.5806e-12 - val_accuracy: 1.0000 - val_loss: 6.4760e-10\n",
            "Epoch 50/50\n",
            "\u001b[1m1554/1554\u001b[0m \u001b[32m━━━━━━━━━━━━━━━━━━━━\u001b[0m\u001b[37m\u001b[0m \u001b[1m4s\u001b[0m 2ms/step - accuracy: 1.0000 - loss: 2.1861e-12 - val_accuracy: 1.0000 - val_loss: 6.3438e-10\n"
          ]
        },
        {
          "output_type": "execute_result",
          "data": {
            "text/plain": [
              "<keras.src.callbacks.history.History at 0x7fe6eb694df0>"
            ]
          },
          "metadata": {},
          "execution_count": 95
        }
      ]
    },
    {
      "cell_type": "markdown",
      "source": [
        "## Presición del modelo"
      ],
      "metadata": {
        "id": "Pc1HtcCyIKcM"
      }
    },
    {
      "cell_type": "code",
      "source": [
        "loss, acc = model.evaluate(X_test, y_test)\n",
        "print(acc*100)"
      ],
      "metadata": {
        "colab": {
          "base_uri": "https://localhost:8080/"
        },
        "id": "c0cxRDnAIMxG",
        "outputId": "08b193dd-2175-45e0-ac09-6185f9be7b31"
      },
      "execution_count": 97,
      "outputs": [
        {
          "output_type": "stream",
          "name": "stdout",
          "text": [
            "\u001b[1m486/486\u001b[0m \u001b[32m━━━━━━━━━━━━━━━━━━━━\u001b[0m\u001b[37m\u001b[0m \u001b[1m1s\u001b[0m 2ms/step - accuracy: 1.0000 - loss: 5.4608e-10\n",
            "100.0\n"
          ]
        }
      ]
    },
    {
      "cell_type": "markdown",
      "source": [
        "## Realizar predicciones"
      ],
      "metadata": {
        "id": "3AyKgbeaIcHa"
      }
    },
    {
      "cell_type": "code",
      "source": [
        "estudiante = np.array([[12, 15, 2, 1000, 30000]])\n",
        "p = model.predict(estudiante)\n",
        "print(p*100)\n",
        "\n",
        "estudiante2 = np.array([[13, 34, 3, 15000, 60000]])\n",
        "p = model.predict(estudiante2)\n",
        "print(p*100)\n"
      ],
      "metadata": {
        "colab": {
          "base_uri": "https://localhost:8080/"
        },
        "id": "nID-FIIvIdUE",
        "outputId": "856c5e7b-174f-4295-90ee-57ac1c7d57ed"
      },
      "execution_count": 98,
      "outputs": [
        {
          "output_type": "stream",
          "name": "stdout",
          "text": [
            "\u001b[1m1/1\u001b[0m \u001b[32m━━━━━━━━━━━━━━━━━━━━\u001b[0m\u001b[37m\u001b[0m \u001b[1m0s\u001b[0m 108ms/step\n",
            "[[0.]]\n",
            "\u001b[1m1/1\u001b[0m \u001b[32m━━━━━━━━━━━━━━━━━━━━\u001b[0m\u001b[37m\u001b[0m \u001b[1m0s\u001b[0m 35ms/step\n",
            "[[0.]]\n"
          ]
        }
      ]
    }
  ]
}